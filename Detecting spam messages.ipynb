{
 "cells": [
  {
   "cell_type": "markdown",
   "id": "1d28051e",
   "metadata": {},
   "source": [
    "# Detecting spam messages\n",
    "This project will use keras and nltk to classify whether text messages are spam or not\n",
    "\n",
    "Steps:\n",
    "* Preprocess and clean data\n",
    "* conduct data visualisation and EDA\n",
    "* build the model\n",
    "* train/test\n",
    "* optimise\n",
    "* evaluate metrics"
   ]
  },
  {
   "cell_type": "code",
   "execution_count": 1,
   "id": "af390c45",
   "metadata": {},
   "outputs": [
    {
     "name": "stderr",
     "output_type": "stream",
     "text": [
      "2023-07-19 10:28:38.598091: I tensorflow/core/platform/cpu_feature_guard.cc:193] This TensorFlow binary is optimized with oneAPI Deep Neural Network Library (oneDNN) to use the following CPU instructions in performance-critical operations:  SSE4.1 SSE4.2\n",
      "To enable them in other operations, rebuild TensorFlow with the appropriate compiler flags.\n"
     ]
    }
   ],
   "source": [
    "import numpy as np\n",
    "import pandas as pd\n",
    "import matplotlib.pyplot as plt\n",
    "import seaborn as sns\n",
    "import tensorflow as tf\n",
    "from tensorflow.keras import layers\n",
    "from tensorflow import keras"
   ]
  },
  {
   "cell_type": "code",
   "execution_count": 2,
   "id": "511869d1",
   "metadata": {},
   "outputs": [
    {
     "data": {
      "text/html": [
       "<div>\n",
       "<style scoped>\n",
       "    .dataframe tbody tr th:only-of-type {\n",
       "        vertical-align: middle;\n",
       "    }\n",
       "\n",
       "    .dataframe tbody tr th {\n",
       "        vertical-align: top;\n",
       "    }\n",
       "\n",
       "    .dataframe thead th {\n",
       "        text-align: right;\n",
       "    }\n",
       "</style>\n",
       "<table border=\"1\" class=\"dataframe\">\n",
       "  <thead>\n",
       "    <tr style=\"text-align: right;\">\n",
       "      <th></th>\n",
       "      <th>v1</th>\n",
       "      <th>v2</th>\n",
       "      <th>Unnamed: 2</th>\n",
       "      <th>Unnamed: 3</th>\n",
       "      <th>Unnamed: 4</th>\n",
       "    </tr>\n",
       "  </thead>\n",
       "  <tbody>\n",
       "    <tr>\n",
       "      <th>0</th>\n",
       "      <td>ham</td>\n",
       "      <td>Go until jurong point, crazy.. Available only ...</td>\n",
       "      <td>NaN</td>\n",
       "      <td>NaN</td>\n",
       "      <td>NaN</td>\n",
       "    </tr>\n",
       "    <tr>\n",
       "      <th>1</th>\n",
       "      <td>ham</td>\n",
       "      <td>Ok lar... Joking wif u oni...</td>\n",
       "      <td>NaN</td>\n",
       "      <td>NaN</td>\n",
       "      <td>NaN</td>\n",
       "    </tr>\n",
       "    <tr>\n",
       "      <th>2</th>\n",
       "      <td>spam</td>\n",
       "      <td>Free entry in 2 a wkly comp to win FA Cup fina...</td>\n",
       "      <td>NaN</td>\n",
       "      <td>NaN</td>\n",
       "      <td>NaN</td>\n",
       "    </tr>\n",
       "    <tr>\n",
       "      <th>3</th>\n",
       "      <td>ham</td>\n",
       "      <td>U dun say so early hor... U c already then say...</td>\n",
       "      <td>NaN</td>\n",
       "      <td>NaN</td>\n",
       "      <td>NaN</td>\n",
       "    </tr>\n",
       "    <tr>\n",
       "      <th>4</th>\n",
       "      <td>ham</td>\n",
       "      <td>Nah I don't think he goes to usf, he lives aro...</td>\n",
       "      <td>NaN</td>\n",
       "      <td>NaN</td>\n",
       "      <td>NaN</td>\n",
       "    </tr>\n",
       "  </tbody>\n",
       "</table>\n",
       "</div>"
      ],
      "text/plain": [
       "     v1                                                 v2 Unnamed: 2  \\\n",
       "0   ham  Go until jurong point, crazy.. Available only ...        NaN   \n",
       "1   ham                      Ok lar... Joking wif u oni...        NaN   \n",
       "2  spam  Free entry in 2 a wkly comp to win FA Cup fina...        NaN   \n",
       "3   ham  U dun say so early hor... U c already then say...        NaN   \n",
       "4   ham  Nah I don't think he goes to usf, he lives aro...        NaN   \n",
       "\n",
       "  Unnamed: 3 Unnamed: 4  \n",
       "0        NaN        NaN  \n",
       "1        NaN        NaN  \n",
       "2        NaN        NaN  \n",
       "3        NaN        NaN  \n",
       "4        NaN        NaN  "
      ]
     },
     "execution_count": 2,
     "metadata": {},
     "output_type": "execute_result"
    }
   ],
   "source": [
    "df=pd.read_csv('spam.csv',encoding='latin-1')\n",
    "df.head()"
   ]
  },
  {
   "cell_type": "markdown",
   "id": "1add2cb1",
   "metadata": {},
   "source": [
    "## Preprocessing\n",
    "* Clean data by dropping empty columns\n",
    "* Rename columns appropriately\n",
    "* Perform one-hot-encoding on labels"
   ]
  },
  {
   "cell_type": "code",
   "execution_count": 3,
   "id": "5f9a2000",
   "metadata": {},
   "outputs": [],
   "source": [
    "#drop missing data\n",
    "df.drop(['Unnamed: 2','Unnamed: 3','Unnamed: 4'],axis=1,inplace=True)\n",
    "#rename columns\n",
    "df.rename(columns={'v1':'label','v2':'text'},inplace=True)\n",
    "#one hot encoding on labels\n",
    "df['label_enc']=df['label'].map({'ham':0,'spam':1})"
   ]
  },
  {
   "cell_type": "markdown",
   "id": "918e4834",
   "metadata": {},
   "source": [
    "## EDA and visualisation\n",
    "* Compare the numbers of spam and ham messages\n",
    "* Look for key characteristics that might indicate label\n",
    "* Make statistical inferences from the data set"
   ]
  },
  {
   "cell_type": "code",
   "execution_count": 4,
   "id": "69d4458e",
   "metadata": {},
   "outputs": [
    {
     "data": {
      "image/png": "[encoded data removed]",
      "text/plain": [
       "<Figure size 640x480 with 1 Axes>"
      ]
     },
     "metadata": {},
     "output_type": "display_data"
    }
   ],
   "source": [
    "sns.countplot(x=df['label'])\n",
    "plt.title('Number of spam and ham messages sent')\n",
    "plt.show()"
   ]
  },
  {
   "cell_type": "markdown",
   "id": "0b1a116b",
   "metadata": {},
   "source": [
    "There are significantly more ham messages than spam messages. Now we analyse the content of the messages instead. No balancing of data is required to account for bias since the model will use embedding."
   ]
  },
  {
   "cell_type": "code",
   "execution_count": 5,
   "id": "1b4637e6",
   "metadata": {
    "scrolled": true
   },
   "outputs": [
    {
     "name": "stdout",
     "output_type": "stream",
     "text": [
      "The average length of a text is 15 words\n",
      "15585 unique words have been used in all messages\n"
     ]
    }
   ],
   "source": [
    "avg_text_len=round(sum(len(i.split()) for i in df['text'])/len(df['text']))\n",
    "print(f'The average length of a text is {avg_text_len} words')\n",
    "s=set()\n",
    "for text in df['text']:\n",
    "    for word in text.split():\n",
    "        s.add(word)\n",
    "print(f'{len(s)} unique words have been used in all messages')"
   ]
  },
  {
   "cell_type": "markdown",
   "id": "62c865f5",
   "metadata": {},
   "source": [
    "## Building a model\n",
    "* create a training/testing set\n",
    "* build differemt models with layers"
   ]
  },
  {
   "cell_type": "markdown",
   "id": "6c193b0d",
   "metadata": {},
   "source": [
    "### Baseline\n",
    "* Uses only classical natural language processing methods\n",
    "* No deep learning methods"
   ]
  },
  {
   "cell_type": "code",
   "execution_count": 6,
   "id": "a5adb6ca",
   "metadata": {},
   "outputs": [],
   "source": [
    "#training/testing sets\n",
    "from sklearn.model_selection import train_test_split\n",
    "#experimental conditions\n",
    "RS=42\n",
    "testing_size=0.2\n",
    "eps=5\n",
    "X,y=np.asanyarray(df['text']),np.asanyarray(df['label_enc'])\n",
    "deploy_df=pd.DataFrame({'text':X,'label':y})\n",
    "X_train,X_test,y_train,y_test=train_test_split(deploy_df['text'],deploy_df['label'],test_size=testing_size,random_state=RS)"
   ]
  },
  {
   "cell_type": "code",
   "execution_count": 7,
   "id": "af511903",
   "metadata": {
    "scrolled": true
   },
   "outputs": [
    {
     "name": "stdout",
     "output_type": "stream",
     "text": [
      "Accuracy of baseline is 0.9623318385650225\n"
     ]
    },
    {
     "data": {
      "text/plain": [
       "'              precision    recall  f1-score   support\\n\\n           0       0.96      1.00      0.98       965\\n           1       1.00      0.72      0.84       150\\n\\n    accuracy                           0.96      1115\\n   macro avg       0.98      0.86      0.91      1115\\nweighted avg       0.96      0.96      0.96      1115\\n'"
      ]
     },
     "execution_count": 7,
     "metadata": {},
     "output_type": "execute_result"
    }
   ],
   "source": [
    "#baseline model for comparison\n",
    "from sklearn.feature_extraction.text import TfidfVectorizer\n",
    "from sklearn.naive_bayes import MultinomialNB\n",
    "from sklearn.metrics import accuracy_score,classification_report\n",
    "#instantiate model\n",
    "tfidf_vec=TfidfVectorizer().fit(X_train)\n",
    "X_train_vec,X_test_vec=tfidf_vec.transform(X_train),tfidf_vec.transform(X_test)\n",
    "baseline_model=MultinomialNB()\n",
    "baseline_model.fit(X_train_vec,y_train)\n",
    "#evaluate\n",
    "y_pred=baseline_model.predict(X_test_vec)\n",
    "accuracy=accuracy_score(y_test,y_pred)\n",
    "print(f'Accuracy of baseline is {accuracy}')\n",
    "classification_report(y_test,y_pred)"
   ]
  },
  {
   "cell_type": "code",
   "execution_count": 8,
   "id": "d5f6866c",
   "metadata": {},
   "outputs": [
    {
     "data": {
      "text/plain": [
       "[Text(0, 0.5, 'Spam'), Text(0, 1.5, 'Ham')]"
      ]
     },
     "execution_count": 8,
     "metadata": {},
     "output_type": "execute_result"
    },
    {
     "data": {
      "image/png": "[encoded data removed]",
      "text/plain": [
       "<Figure size 640x480 with 2 Axes>"
      ]
     },
     "metadata": {},
     "output_type": "display_data"
    }
   ],
   "source": [
    "#visualise results using confusion matrix\n",
    "from sklearn.metrics import confusion_matrix\n",
    "cnf_mat=confusion_matrix(y_test,y_pred,labels=[1,0])\n",
    "ax = sns.heatmap(cnf_mat, annot=True, fmt='d', )\n",
    "\n",
    "# set x-axis label and ticks. \n",
    "ax.set_xlabel(\"Predicted spam\", fontsize=14, labelpad=20)\n",
    "ax.xaxis.set_ticklabels(['Spam', 'Ham'])\n",
    "\n",
    "# set y-axis label and ticks\n",
    "ax.set_ylabel(\"Actual spam\", fontsize=14, labelpad=20)\n",
    "ax.yaxis.set_ticklabels(['Spam', 'Ham'])"
   ]
  },
  {
   "cell_type": "markdown",
   "id": "e5beaa71",
   "metadata": {},
   "source": [
    "### Custom text vectorisation and embedding\n",
    "* Converts text to numerical data\n",
    "* Examples include bag of words, binary term frequency\n",
    "* Embedding is the process of finding and grouping words that may carry similar sentiments into vectors. Vectors' values are found similar to how a neural network finds its weights.\n",
    "* Model uses tensorflow"
   ]
  },
  {
   "cell_type": "code",
   "execution_count": 9,
   "id": "a546d788",
   "metadata": {},
   "outputs": [
    {
     "name": "stderr",
     "output_type": "stream",
     "text": [
      "2023-07-19 10:28:42.601726: I tensorflow/core/platform/cpu_feature_guard.cc:193] This TensorFlow binary is optimized with oneAPI Deep Neural Network Library (oneDNN) to use the following CPU instructions in performance-critical operations:  SSE4.1 SSE4.2\n",
      "To enable them in other operations, rebuild TensorFlow with the appropriate compiler flags.\n"
     ]
    }
   ],
   "source": [
    "from tensorflow.keras.layers import TextVectorization\n",
    "#instantiate model\n",
    "MaxTokens=len(s)\n",
    "out_len=avg_text_len\n",
    "text_vec=TextVectorization(max_tokens=MaxTokens,\n",
    "                          standardize='lower_and_strip_punctuation',\n",
    "                          output_mode='int',\n",
    "                          output_sequence_length=out_len)\n",
    "#fit model\n",
    "text_vec.adapt(X_train)"
   ]
  },
  {
   "cell_type": "code",
   "execution_count": 10,
   "id": "579aece3",
   "metadata": {
    "scrolled": true
   },
   "outputs": [
    {
     "name": "stdout",
     "output_type": "stream",
     "text": [
      "Model: \"model\"\n",
      "_________________________________________________________________\n",
      " Layer (type)                Output Shape              Param #   \n",
      "=================================================================\n",
      " input_1 (InputLayer)        [(None, 1)]               0         \n",
      "                                                                 \n",
      " text_vectorization (TextVec  (None, 15)               0         \n",
      " torization)                                                     \n",
      "                                                                 \n",
      " embedding (Embedding)       (None, 15, 120)           1870200   \n",
      "                                                                 \n",
      " global_average_pooling1d (G  (None, 120)              0         \n",
      " lobalAveragePooling1D)                                          \n",
      "                                                                 \n",
      " flatten (Flatten)           (None, 120)               0         \n",
      "                                                                 \n",
      " dense (Dense)               (None, 32)                3872      \n",
      "                                                                 \n",
      " dense_1 (Dense)             (None, 1)                 33        \n",
      "                                                                 \n",
      "=================================================================\n",
      "Total params: 1,874,105\n",
      "Trainable params: 1,874,105\n",
      "Non-trainable params: 0\n",
      "_________________________________________________________________\n"
     ]
    }
   ],
   "source": [
    "#create embedding layers\n",
    "output_dim=120#HYPERPARAMETER\n",
    "embedding_layer=layers.Embedding(input_dim=MaxTokens,#size of vocab used in texts\n",
    "                                output_dim=output_dim,#size of vector used during embedding\n",
    "                                embeddings_initializer='uniform',#sets initial weights of embedding model\n",
    "                                input_length=out_len#length of input sequences\n",
    "                                )\n",
    "input_layer=layers.Input(shape=(1,),dtype=tf.string)\n",
    "vector_layer=text_vec(input_layer)#fitting\n",
    "embedding_layer_model=embedding_layer(vector_layer)#fitting\n",
    "x = layers.GlobalAveragePooling1D()(embedding_layer_model)\n",
    "x = layers.Flatten()(x)\n",
    "x = layers.Dense(32, activation='relu')(x)\n",
    "output_layer = layers.Dense(1, activation='sigmoid')(x)\n",
    "model_1 = keras.Model(input_layer, output_layer)\n",
    " \n",
    "model_1.compile(optimizer='adam', loss=keras.losses.BinaryCrossentropy(\n",
    "    label_smoothing=0.5), metrics=['accuracy'])#sets criteria for model optimisation\n",
    "model_1.summary()"
   ]
  },
  {
   "cell_type": "code",
   "execution_count": 11,
   "id": "e78f02b0",
   "metadata": {},
   "outputs": [
    {
     "name": "stdout",
     "output_type": "stream",
     "text": [
      "Epoch 1/5\n",
      "140/140 [==============================] - 1s 4ms/step - loss: 0.6094 - accuracy: 0.9026 - val_loss: 0.5767 - val_accuracy: 0.9722\n",
      "Epoch 2/5\n",
      "140/140 [==============================] - 0s 4ms/step - loss: 0.5705 - accuracy: 0.9859 - val_loss: 0.5734 - val_accuracy: 0.9803\n",
      "Epoch 3/5\n",
      "140/140 [==============================] - 0s 3ms/step - loss: 0.5660 - accuracy: 0.9946 - val_loss: 0.5726 - val_accuracy: 0.9830\n",
      "Epoch 4/5\n",
      "140/140 [==============================] - 0s 3ms/step - loss: 0.5643 - accuracy: 0.9978 - val_loss: 0.5726 - val_accuracy: 0.9821\n",
      "Epoch 5/5\n",
      "140/140 [==============================] - 0s 3ms/step - loss: 0.5634 - accuracy: 0.9989 - val_loss: 0.5725 - val_accuracy: 0.9830\n"
     ]
    }
   ],
   "source": [
    "#train and test model on multiple epochs\n",
    "training_history=model_1.fit(X_train,y_train,epochs=eps,validation_data=(X_test,y_test),\n",
    "                            validation_steps=int(0.2*len(X_test)))"
   ]
  },
  {
   "cell_type": "code",
   "execution_count": 12,
   "id": "195f36cc",
   "metadata": {
    "scrolled": true
   },
   "outputs": [
    {
     "data": {
      "text/plain": [
       "<AxesSubplot:>"
      ]
     },
     "execution_count": 12,
     "metadata": {},
     "output_type": "execute_result"
    },
    {
     "data": {
      "image/png": "[encoded data removed]",
      "text/plain": [
       "<Figure size 640x480 with 1 Axes>"
      ]
     },
     "metadata": {},
     "output_type": "display_data"
    }
   ],
   "source": [
    "#visualise progress\n",
    "pd.DataFrame(training_history.history).plot()"
   ]
  },
  {
   "cell_type": "markdown",
   "id": "a29e9cfa",
   "metadata": {},
   "source": [
    "### Bidirectional LSTM\n",
    "* Accepts long and short term memory in two different directions\n",
    "* improves algorithm's ability to predict preceding words in sentences"
   ]
  },
  {
   "cell_type": "code",
   "execution_count": 13,
   "id": "7b71bab4",
   "metadata": {},
   "outputs": [],
   "source": [
    "#create functions that can assist operations for this model\n",
    "from sklearn.metrics import precision_score, recall_score, f1_score\n",
    " \n",
    "def compile_model(model):\n",
    "    '''\n",
    "    simply compile the model with adam optimzer\n",
    "    '''\n",
    "    model.compile(optimizer=keras.optimizers.Adam(),\n",
    "                  loss=keras.losses.BinaryCrossentropy(),\n",
    "                  metrics=['accuracy'])\n",
    " \n",
    "def fit_model(model, epochs, X_train=X_train, y_train=y_train,\n",
    "              X_test=X_test, y_test=y_test):\n",
    "    '''\n",
    "    fit the model with given epochs, train\n",
    "    and test data\n",
    "    '''\n",
    "    history = model.fit(X_train,\n",
    "                        y_train,\n",
    "                        epochs=epochs,\n",
    "                        validation_data=(X_test, y_test),\n",
    "                        validation_steps=int(0.2*len(X_test)))\n",
    "    return history\n",
    " \n",
    "def evaluate_model(model, X, y):\n",
    "    '''\n",
    "    evaluate the model and returns accuracy,\n",
    "    precision, recall and f1-score\n",
    "    '''\n",
    "    y_preds = np.round(model.predict(X))\n",
    "    accuracy = accuracy_score(y, y_preds)\n",
    "    precision = precision_score(y, y_preds)\n",
    "    recall = recall_score(y, y_preds)\n",
    "    f1 = f1_score(y, y_preds)\n",
    " \n",
    "    model_results_dict = {'accuracy': accuracy,\n",
    "                          'precision': precision,\n",
    "                          'recall': recall,\n",
    "                          'f1-score': f1}\n",
    " \n",
    "    return model_results_dict"
   ]
  },
  {
   "cell_type": "code",
   "execution_count": 14,
   "id": "2304b151",
   "metadata": {},
   "outputs": [
    {
     "name": "stdout",
     "output_type": "stream",
     "text": [
      "Epoch 1/5\n",
      "140/140 [==============================] - 5s 21ms/step - loss: 0.0612 - accuracy: 0.9794 - val_loss: 0.1133 - val_accuracy: 0.9785\n",
      "Epoch 2/5\n",
      "140/140 [==============================] - 2s 16ms/step - loss: 0.0027 - accuracy: 0.9993 - val_loss: 0.0986 - val_accuracy: 0.9830\n",
      "Epoch 3/5\n",
      "140/140 [==============================] - 2s 16ms/step - loss: 5.6131e-04 - accuracy: 0.9998 - val_loss: 0.1127 - val_accuracy: 0.9848\n",
      "Epoch 4/5\n",
      "140/140 [==============================] - 2s 16ms/step - loss: 3.7353e-05 - accuracy: 1.0000 - val_loss: 0.1249 - val_accuracy: 0.9848\n",
      "Epoch 5/5\n",
      "140/140 [==============================] - 2s 16ms/step - loss: 1.5453e-05 - accuracy: 1.0000 - val_loss: 0.1324 - val_accuracy: 0.9839\n"
     ]
    }
   ],
   "source": [
    "#model building\n",
    "input_layer=layers.Input(shape=(1,),dtype=tf.string)\n",
    "vector_layer=text_vec(input_layer)#fitting\n",
    "embedding_layer_model=embedding_layer(vector_layer)#fitting\n",
    "bi_lstm = layers.Bidirectional(layers.LSTM(\n",
    "    64, activation='tanh', return_sequences=True))(embedding_layer_model)\n",
    "lstm = layers.Bidirectional(layers.LSTM(64))(bi_lstm)\n",
    "flatten = layers.Flatten()(lstm)\n",
    "dropout = layers.Dropout(.1)(flatten)\n",
    "#activation function layer\n",
    "x = layers.Dense(32, activation='relu')(dropout)\n",
    "output_layer = layers.Dense(1, activation='sigmoid')(x)\n",
    "model_2 = keras.Model(input_layer, output_layer)\n",
    " \n",
    "compile_model(model_2)  # compile the model\n",
    "history_2 = fit_model(model_2, epochs=eps)  # fit the model"
   ]
  },
  {
   "cell_type": "code",
   "execution_count": 15,
   "id": "92e37820",
   "metadata": {},
   "outputs": [
    {
     "data": {
      "text/plain": [
       "<AxesSubplot:>"
      ]
     },
     "execution_count": 15,
     "metadata": {},
     "output_type": "execute_result"
    },
    {
     "data": {
      "image/png": "[encoded data removed]",
      "text/plain": [
       "<Figure size 640x480 with 1 Axes>"
      ]
     },
     "metadata": {},
     "output_type": "display_data"
    }
   ],
   "source": [
    "pd.DataFrame(history_2.history).plot()"
   ]
  },
  {
   "cell_type": "markdown",
   "id": "3f447117",
   "metadata": {},
   "source": [
    "### Transfer learning\n",
    "* A model that is specially designed for one task is used a foundation for a model that performs another task\n",
    "* This model has USE (Universal sentence encoder) layers that convert text to higher dimensional vectors which can be used for text categorisation, sentiment analysis and other techniques."
   ]
  },
  {
   "cell_type": "code",
   "execution_count": 16,
   "id": "745f1e50",
   "metadata": {},
   "outputs": [],
   "source": [
    "import tensorflow_hub as hub\n",
    "model_3=keras.Sequential()\n",
    "#create universal sentence encoding layer\n",
    "use_layer=hub.KerasLayer(\"https://tfhub.dev/google/universal-sentence-encoder/4\",\n",
    "                        trainable=False,\n",
    "                        input_shape=[],\n",
    "                        dtype=tf.string,\n",
    "                        name='USE')\n",
    "#add activation layers\n",
    "model_3.add(use_layer)\n",
    "model_3.add(layers.Dropout(0.2))\n",
    "model_3.add(layers.Dense(64, activation=keras.activations.relu))\n",
    "model_3.add(layers.Dense(1, activation=keras.activations.sigmoid))"
   ]
  },
  {
   "cell_type": "code",
   "execution_count": 17,
   "id": "01430f15",
   "metadata": {
    "scrolled": true
   },
   "outputs": [
    {
     "name": "stdout",
     "output_type": "stream",
     "text": [
      "Epoch 1/5\n",
      "140/140 [==============================] - 2s 8ms/step - loss: 0.2944 - accuracy: 0.9152 - val_loss: 0.1144 - val_accuracy: 0.9704\n",
      "Epoch 2/5\n",
      "140/140 [==============================] - 1s 5ms/step - loss: 0.0808 - accuracy: 0.9791 - val_loss: 0.0711 - val_accuracy: 0.9776\n",
      "Epoch 3/5\n",
      "140/140 [==============================] - 1s 5ms/step - loss: 0.0554 - accuracy: 0.9845 - val_loss: 0.0604 - val_accuracy: 0.9803\n",
      "Epoch 4/5\n",
      "140/140 [==============================] - 1s 5ms/step - loss: 0.0490 - accuracy: 0.9863 - val_loss: 0.0540 - val_accuracy: 0.9812\n",
      "Epoch 5/5\n",
      "140/140 [==============================] - 1s 5ms/step - loss: 0.0416 - accuracy: 0.9865 - val_loss: 0.0535 - val_accuracy: 0.9812\n"
     ]
    }
   ],
   "source": [
    "compile_model(model_3)\n",
    "history_3=fit_model(model_3,epochs=eps)"
   ]
  },
  {
   "cell_type": "markdown",
   "id": "f930beeb",
   "metadata": {},
   "source": [
    "## Comparing models\n",
    "* When making an analysis, the suitability of metrics used across all comparisons must be considered.\n",
    "* Additionally, the time complexity and limitations must be considered"
   ]
  },
  {
   "cell_type": "code",
   "execution_count": 18,
   "id": "d35c9a1a",
   "metadata": {},
   "outputs": [
    {
     "name": "stdout",
     "output_type": "stream",
     "text": [
      "35/35 [==============================] - 0s 507us/step\n",
      "35/35 [==============================] - 1s 4ms/step\n",
      "35/35 [==============================] - 0s 4ms/step\n"
     ]
    },
    {
     "data": {
      "text/html": [
       "<div>\n",
       "<style scoped>\n",
       "    .dataframe tbody tr th:only-of-type {\n",
       "        vertical-align: middle;\n",
       "    }\n",
       "\n",
       "    .dataframe tbody tr th {\n",
       "        vertical-align: top;\n",
       "    }\n",
       "\n",
       "    .dataframe thead th {\n",
       "        text-align: right;\n",
       "    }\n",
       "</style>\n",
       "<table border=\"1\" class=\"dataframe\">\n",
       "  <thead>\n",
       "    <tr style=\"text-align: right;\">\n",
       "      <th></th>\n",
       "      <th>accuracy</th>\n",
       "      <th>precision</th>\n",
       "      <th>recall</th>\n",
       "      <th>f1-score</th>\n",
       "    </tr>\n",
       "  </thead>\n",
       "  <tbody>\n",
       "    <tr>\n",
       "      <th>MultinomialNB Model</th>\n",
       "      <td>0.962332</td>\n",
       "      <td>1.000000</td>\n",
       "      <td>0.720000</td>\n",
       "      <td>0.837209</td>\n",
       "    </tr>\n",
       "    <tr>\n",
       "      <th>Custom-Vec-Embedding Model</th>\n",
       "      <td>0.983857</td>\n",
       "      <td>0.985294</td>\n",
       "      <td>0.893333</td>\n",
       "      <td>0.937063</td>\n",
       "    </tr>\n",
       "    <tr>\n",
       "      <th>Bidirectional-LSTM Model</th>\n",
       "      <td>0.983857</td>\n",
       "      <td>0.985294</td>\n",
       "      <td>0.893333</td>\n",
       "      <td>0.937063</td>\n",
       "    </tr>\n",
       "    <tr>\n",
       "      <th>USE-Transfer learning Model</th>\n",
       "      <td>0.981166</td>\n",
       "      <td>0.970803</td>\n",
       "      <td>0.886667</td>\n",
       "      <td>0.926829</td>\n",
       "    </tr>\n",
       "  </tbody>\n",
       "</table>\n",
       "</div>"
      ],
      "text/plain": [
       "                             accuracy  precision    recall  f1-score\n",
       "MultinomialNB Model          0.962332   1.000000  0.720000  0.837209\n",
       "Custom-Vec-Embedding Model   0.983857   0.985294  0.893333  0.937063\n",
       "Bidirectional-LSTM Model     0.983857   0.985294  0.893333  0.937063\n",
       "USE-Transfer learning Model  0.981166   0.970803  0.886667  0.926829"
      ]
     },
     "execution_count": 18,
     "metadata": {},
     "output_type": "execute_result"
    }
   ],
   "source": [
    "baseline_model_results = evaluate_model(baseline_model, X_test_vec, y_test)\n",
    "model_1_results = evaluate_model(model_1, X_test, y_test)\n",
    "model_2_results = evaluate_model(model_2, X_test, y_test)\n",
    "model_3_results = evaluate_model(model_3, X_test, y_test)\n",
    " \n",
    "total_results = pd.DataFrame({'MultinomialNB Model':baseline_model_results,\n",
    "                             'Custom-Vec-Embedding Model':model_1_results,\n",
    "                             'Bidirectional-LSTM Model':model_2_results,\n",
    "                             'USE-Transfer learning Model':model_3_results}).transpose()\n",
    " \n",
    "total_results"
   ]
  },
  {
   "cell_type": "markdown",
   "id": "f27b4547",
   "metadata": {},
   "source": [
    "### Comments:\n",
    "* All models performed reasonably well with regards to accuracy making it an unsuitable choice to compare against for all models.\n",
    "* Similarly, precision amongst the embedding, LSTM and USE models were extremely similar\n",
    "* Recall seems to be an ideal candidate to distinguish performance amongst the models however as f1 score quantifies overall precision and recall by definition, it is indeed a more appropriate measure despite the lack of distinction between models.\n",
    "* Based on prior deductions of the appropriate measures to use, it is clear that the Universal Sentence Encoder performed best, judging by the comparatively higher f1 score and simiarly high accuracy.\n",
    "* To get a better grasp of the comparison between the performances of these models, a visualisation is provided for each model"
   ]
  },
  {
   "cell_type": "code",
   "execution_count": 19,
   "id": "e505c3c8",
   "metadata": {},
   "outputs": [
    {
     "data": {
      "text/plain": [
       "<AxesSubplot:>"
      ]
     },
     "execution_count": 19,
     "metadata": {},
     "output_type": "execute_result"
    },
    {
     "data": {
      "image/png": "[encoded data removed]",
      "text/plain": [
       "<Figure size 640x480 with 1 Axes>"
      ]
     },
     "metadata": {},
     "output_type": "display_data"
    }
   ],
   "source": [
    "total_results.plot()"
   ]
  }
 ],
 "metadata": {
  "kernelspec": {
   "display_name": "Python 3 (ipykernel)",
   "language": "python",
   "name": "python3"
  },
  "language_info": {
   "codemirror_mode": {
    "name": "ipython",
    "version": 3
   },
   "file_extension": ".py",
   "mimetype": "text/x-python",
   "name": "python",
   "nbconvert_exporter": "python",
   "pygments_lexer": "ipython3",
   "version": "3.9.13"
  }
 },
 "nbformat": 4,
 "nbformat_minor": 5
}
